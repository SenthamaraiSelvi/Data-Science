{
  "cells": [
    {
      "cell_type": "markdown",
      "metadata": {
        "id": "view-in-github",
        "colab_type": "text"
      },
      "source": [
        "<a href=\"https://colab.research.google.com/github/SenthamaraiSelvi/Data-Science/blob/main/Sentiment_Analysis.ipynb\" target=\"_parent\"><img src=\"https://colab.research.google.com/assets/colab-badge.svg\" alt=\"Open In Colab\"/></a>"
      ]
    },
    {
      "cell_type": "code",
      "execution_count": null,
      "id": "ff2ecf75",
      "metadata": {
        "id": "ff2ecf75"
      },
      "outputs": [],
      "source": [
        "import pandas as pd\n",
        "from sklearn.model_selection import train_test_split\n",
        "from sklearn.feature_extraction.text import CountVectorizer\n",
        "from sklearn.linear_model import LogisticRegression\n",
        "from sklearn.metrics import accuracy_score, classification_report"
      ]
    },
    {
      "cell_type": "code",
      "execution_count": null,
      "id": "kxTIjPuET1QH",
      "metadata": {
        "colab": {
          "base_uri": "https://localhost:8080/"
        },
        "id": "kxTIjPuET1QH",
        "outputId": "ab8ddb30-8470-42c5-9d60-48e380aa2b80"
      },
      "outputs": [
        {
          "output_type": "stream",
          "name": "stdout",
          "text": [
            "Drive already mounted at /content/drive; to attempt to forcibly remount, call drive.mount(\"/content/drive\", force_remount=True).\n"
          ]
        }
      ],
      "source": [
        "from google.colab import drive\n",
        "drive.mount('/content/drive')"
      ]
    },
    {
      "cell_type": "code",
      "execution_count": null,
      "id": "283e23eb",
      "metadata": {
        "id": "283e23eb"
      },
      "outputs": [],
      "source": [
        "data = pd.read_csv('/content/drive/MyDrive/training.1600000.processed.noemoticon.csv',\n",
        "                   encoding='latin-1',\n",
        "                   header=None,\n",
        "                   usecols=[0, 5],\n",
        "                   names=['target', 'text'])\n"
      ]
    },
    {
      "cell_type": "code",
      "execution_count": null,
      "id": "2332ada4",
      "metadata": {
        "id": "2332ada4"
      },
      "outputs": [],
      "source": [
        "data.dropna(inplace=True)"
      ]
    },
    {
      "cell_type": "markdown",
      "id": "055d4df9",
      "metadata": {
        "id": "055d4df9"
      },
      "source": [
        "# Data exploration"
      ]
    },
    {
      "cell_type": "code",
      "execution_count": null,
      "id": "dc85f5b8",
      "metadata": {
        "id": "dc85f5b8",
        "colab": {
          "base_uri": "https://localhost:8080/"
        },
        "outputId": "51e01f6c-ea5d-4455-b633-3203a7db9695"
      },
      "outputs": [
        {
          "output_type": "stream",
          "name": "stdout",
          "text": [
            "Data Shape: (1600000, 2)\n",
            "Sample Data:\n",
            "    target                                               text\n",
            "0       0  @switchfoot http://twitpic.com/2y1zl - Awww, t...\n",
            "1       0  is upset that he can't update his Facebook by ...\n",
            "2       0  @Kenichan I dived many times for the ball. Man...\n",
            "3       0    my whole body feels itchy and like its on fire \n",
            "4       0  @nationwideclass no, it's not behaving at all....\n"
          ]
        }
      ],
      "source": [
        "print(\"Data Shape:\", data.shape)\n",
        "print(\"Sample Data:\\n\", data.head())"
      ]
    },
    {
      "cell_type": "code",
      "execution_count": null,
      "id": "06661408",
      "metadata": {
        "id": "06661408",
        "colab": {
          "base_uri": "https://localhost:8080/",
          "height": 690
        },
        "outputId": "ce389e04-0bcb-4505-aa53-cdfda9fffd33"
      },
      "outputs": [
        {
          "output_type": "stream",
          "name": "stdout",
          "text": [
            "Target Distribution (%):\n",
            " target\n",
            "0    50.0\n",
            "4    50.0\n",
            "Name: proportion, dtype: float64\n"
          ]
        },
        {
          "output_type": "stream",
          "name": "stderr",
          "text": [
            "<ipython-input-6-c568ae14b1fb>:13: FutureWarning: \n",
            "\n",
            "Passing `palette` without assigning `hue` is deprecated and will be removed in v0.14.0. Assign the `x` variable to `hue` and set `legend=False` for the same effect.\n",
            "\n",
            "  sns.barplot(x=label_counts.index, y=label_counts.values, palette=\"viridis\")\n"
          ]
        },
        {
          "output_type": "display_data",
          "data": {
            "text/plain": [
              "<Figure size 800x500 with 1 Axes>"
            ],
            "image/png": "[encoded data removed]"
          },
          "metadata": {}
        }
      ],
      "source": [
        "\n",
        "label_counts = data['target'].value_counts(normalize=True) * 100  # Calculate percentages\n",
        "print(\"Target Distribution (%):\\n\", label_counts)\n",
        "\n",
        "# Plotting the distribution for visualization\n",
        "import matplotlib.pyplot as plt\n",
        "import seaborn as sns\n",
        "\n",
        "# Set the plot style\n",
        "sns.set(style=\"whitegrid\")\n",
        "\n",
        "# Create a bar plot\n",
        "plt.figure(figsize=(8, 5))\n",
        "sns.barplot(x=label_counts.index, y=label_counts.values, palette=\"viridis\")\n",
        "plt.xlabel(\"Sentiment\")\n",
        "plt.ylabel(\"Percentage\")\n",
        "plt.title(\"Percentage Distribution of Sentiment Labels\")\n",
        "plt.show()"
      ]
    },
    {
      "cell_type": "code",
      "execution_count": null,
      "id": "af0e516b",
      "metadata": {
        "id": "af0e516b",
        "colab": {
          "base_uri": "https://localhost:8080/"
        },
        "outputId": "d186dead-bdcc-4406-9886-451a87b6afcf"
      },
      "outputs": [
        {
          "output_type": "stream",
          "name": "stdout",
          "text": [
            "Unique values in target column: [0 4]\n"
          ]
        }
      ],
      "source": [
        "# Checking unique values in the target column\n",
        "print(\"Unique values in target column:\", data['target'].unique())\n"
      ]
    },
    {
      "cell_type": "markdown",
      "id": "6ff5b12a",
      "metadata": {
        "id": "6ff5b12a"
      },
      "source": [
        "# Data preprocessing"
      ]
    },
    {
      "cell_type": "code",
      "execution_count": null,
      "id": "bbef2aed",
      "metadata": {
        "id": "bbef2aed",
        "colab": {
          "base_uri": "https://localhost:8080/"
        },
        "outputId": "fcbe4c33-4d1f-4d3f-b393-aa727a8a6417"
      },
      "outputs": [
        {
          "output_type": "stream",
          "name": "stdout",
          "text": [
            "['/root/nltk_data', '/usr/nltk_data', '/usr/share/nltk_data', '/usr/lib/nltk_data', '/usr/share/nltk_data', '/usr/local/share/nltk_data', '/usr/lib/nltk_data', '/usr/local/lib/nltk_data']\n"
          ]
        },
        {
          "output_type": "stream",
          "name": "stderr",
          "text": [
            "[nltk_data] Downloading package stopwords to /root/nltk_data...\n",
            "[nltk_data]   Package stopwords is already up-to-date!\n",
            "[nltk_data] Downloading package punkt to /root/nltk_data...\n",
            "[nltk_data]   Package punkt is already up-to-date!\n",
            "[nltk_data] Downloading package wordnet to ....\n",
            "[nltk_data]   Package wordnet is already up-to-date!\n"
          ]
        },
        {
          "output_type": "execute_result",
          "data": {
            "text/plain": [
              "True"
            ]
          },
          "metadata": {},
          "execution_count": 8
        }
      ],
      "source": [
        "# Download the required resources\n",
        "import nltk\n",
        "import spacy\n",
        "# Load the English language model\n",
        "nlp = spacy.load(\"en_core_web_sm\")\n",
        "\n",
        "print(nltk.data.path)\n",
        "\n",
        "nltk.download('stopwords')\n",
        "nltk.download('punkt')\n",
        "nltk.download('wordnet',download_dir=\".\")"
      ]
    },
    {
      "cell_type": "code",
      "execution_count": null,
      "id": "9d1341b9",
      "metadata": {
        "id": "9d1341b9"
      },
      "outputs": [],
      "source": [
        "import re\n",
        "import pandas as pd\n",
        "from nltk.corpus import stopwords\n",
        "from nltk.stem import PorterStemmer\n",
        "\n",
        "# Initialize the stemmer and stop words\n",
        "stemmer = PorterStemmer()\n",
        "stop_words = set(stopwords.words('english'))\n",
        "\n",
        "def clean_and_stem(text):\n",
        "    # Convert to lowercase\n",
        "    text = text.lower()\n",
        "\n",
        "    # Remove URLs, mentions, hashtags, and digits\n",
        "    text = re.sub(r\"http\\S+|www\\S+|https\\S+|@\\w+|#\\w+|\\d+\", \"\", text)\n",
        "\n",
        "    # Remove punctuation\n",
        "    text = re.sub(r\"[^\\w\\s]\", \"\", text)\n",
        "\n",
        "    # Tokenize and stem each word, filtering out stop words\n",
        "    tokens = [stemmer.stem(word) for word in text.split() if word not in stop_words]\n",
        "\n",
        "    # Join tokens back into a single string\n",
        "    return \" \".join(tokens)\n",
        "\n",
        "# Apply cleaning and stemming to the 'text' column\n",
        "data['cleaned_text'] = data['text'].apply(clean_and_stem)\n"
      ]
    },
    {
      "cell_type": "code",
      "execution_count": null,
      "id": "b43db8ef",
      "metadata": {
        "id": "b43db8ef",
        "colab": {
          "base_uri": "https://localhost:8080/",
          "height": 206
        },
        "outputId": "30eeac42-526c-4402-da09-bbae4c2acebd"
      },
      "outputs": [
        {
          "output_type": "execute_result",
          "data": {
            "text/plain": [
              "   target                                               text  \\\n",
              "0       0  @switchfoot http://twitpic.com/2y1zl - Awww, t...   \n",
              "1       0  is upset that he can't update his Facebook by ...   \n",
              "2       0  @Kenichan I dived many times for the ball. Man...   \n",
              "3       0    my whole body feels itchy and like its on fire    \n",
              "4       0  @nationwideclass no, it's not behaving at all....   \n",
              "\n",
              "                                        cleaned_text  \n",
              "0       that bummer shoulda got david carr third day  \n",
              "1  upset cant updat facebook text might cri resul...  \n",
              "2       dive mani time ball manag save rest go bound  \n",
              "3                    whole bodi feel itchi like fire  \n",
              "4                              behav im mad cant see  "
            ],
            "text/html": [
              "\n",
              "  <div id=\"df-01abfca4-8c83-4d72-9b57-699681282cc8\" class=\"colab-df-container\">\n",
              "    <div>\n",
              "<style scoped>\n",
              "    .dataframe tbody tr th:only-of-type {\n",
              "        vertical-align: middle;\n",
              "    }\n",
              "\n",
              "    .dataframe tbody tr th {\n",
              "        vertical-align: top;\n",
              "    }\n",
              "\n",
              "    .dataframe thead th {\n",
              "        text-align: right;\n",
              "    }\n",
              "</style>\n",
              "<table border=\"1\" class=\"dataframe\">\n",
              "  <thead>\n",
              "    <tr style=\"text-align: right;\">\n",
              "      <th></th>\n",
              "      <th>target</th>\n",
              "      <th>text</th>\n",
              "      <th>cleaned_text</th>\n",
              "    </tr>\n",
              "  </thead>\n",
              "  <tbody>\n",
              "    <tr>\n",
              "      <th>0</th>\n",
              "      <td>0</td>\n",
              "      <td>@switchfoot http://twitpic.com/2y1zl - Awww, t...</td>\n",
              "      <td>that bummer shoulda got david carr third day</td>\n",
              "    </tr>\n",
              "    <tr>\n",
              "      <th>1</th>\n",
              "      <td>0</td>\n",
              "      <td>is upset that he can't update his Facebook by ...</td>\n",
              "      <td>upset cant updat facebook text might cri resul...</td>\n",
              "    </tr>\n",
              "    <tr>\n",
              "      <th>2</th>\n",
              "      <td>0</td>\n",
              "      <td>@Kenichan I dived many times for the ball. Man...</td>\n",
              "      <td>dive mani time ball manag save rest go bound</td>\n",
              "    </tr>\n",
              "    <tr>\n",
              "      <th>3</th>\n",
              "      <td>0</td>\n",
              "      <td>my whole body feels itchy and like its on fire</td>\n",
              "      <td>whole bodi feel itchi like fire</td>\n",
              "    </tr>\n",
              "    <tr>\n",
              "      <th>4</th>\n",
              "      <td>0</td>\n",
              "      <td>@nationwideclass no, it's not behaving at all....</td>\n",
              "      <td>behav im mad cant see</td>\n",
              "    </tr>\n",
              "  </tbody>\n",
              "</table>\n",
              "</div>\n",
              "    <div class=\"colab-df-buttons\">\n",
              "\n",
              "  <div class=\"colab-df-container\">\n",
              "    <button class=\"colab-df-convert\" onclick=\"convertToInteractive('df-01abfca4-8c83-4d72-9b57-699681282cc8')\"\n",
              "            title=\"Convert this dataframe to an interactive table.\"\n",
              "            style=\"display:none;\">\n",
              "\n",
              "  <svg xmlns=\"http://www.w3.org/2000/svg\" height=\"24px\" viewBox=\"0 -960 960 960\">\n",
              "    <path d=\"M120-120v-720h720v720H120Zm60-500h600v-160H180v160Zm220 220h160v-160H400v160Zm0 220h160v-160H400v160ZM180-400h160v-160H180v160Zm440 0h160v-160H620v160ZM180-180h160v-160H180v160Zm440 0h160v-160H620v160Z\"/>\n",
              "  </svg>\n",
              "    </button>\n",
              "\n",
              "  <style>\n",
              "    .colab-df-container {\n",
              "      display:flex;\n",
              "      gap: 12px;\n",
              "    }\n",
              "\n",
              "    .colab-df-convert {\n",
              "      background-color: #E8F0FE;\n",
              "      border: none;\n",
              "      border-radius: 50%;\n",
              "      cursor: pointer;\n",
              "      display: none;\n",
              "      fill: #1967D2;\n",
              "      height: 32px;\n",
              "      padding: 0 0 0 0;\n",
              "      width: 32px;\n",
              "    }\n",
              "\n",
              "    .colab-df-convert:hover {\n",
              "      background-color: #E2EBFA;\n",
              "      box-shadow: 0px 1px 2px rgba(60, 64, 67, 0.3), 0px 1px 3px 1px rgba(60, 64, 67, 0.15);\n",
              "      fill: #174EA6;\n",
              "    }\n",
              "\n",
              "    .colab-df-buttons div {\n",
              "      margin-bottom: 4px;\n",
              "    }\n",
              "\n",
              "    [theme=dark] .colab-df-convert {\n",
              "      background-color: #3B4455;\n",
              "      fill: #D2E3FC;\n",
              "    }\n",
              "\n",
              "    [theme=dark] .colab-df-convert:hover {\n",
              "      background-color: #434B5C;\n",
              "      box-shadow: 0px 1px 3px 1px rgba(0, 0, 0, 0.15);\n",
              "      filter: drop-shadow(0px 1px 2px rgba(0, 0, 0, 0.3));\n",
              "      fill: #FFFFFF;\n",
              "    }\n",
              "  </style>\n",
              "\n",
              "    <script>\n",
              "      const buttonEl =\n",
              "        document.querySelector('#df-01abfca4-8c83-4d72-9b57-699681282cc8 button.colab-df-convert');\n",
              "      buttonEl.style.display =\n",
              "        google.colab.kernel.accessAllowed ? 'block' : 'none';\n",
              "\n",
              "      async function convertToInteractive(key) {\n",
              "        const element = document.querySelector('#df-01abfca4-8c83-4d72-9b57-699681282cc8');\n",
              "        const dataTable =\n",
              "          await google.colab.kernel.invokeFunction('convertToInteractive',\n",
              "                                                    [key], {});\n",
              "        if (!dataTable) return;\n",
              "\n",
              "        const docLinkHtml = 'Like what you see? Visit the ' +\n",
              "          '<a target=\"_blank\" href=https://colab.research.google.com/notebooks/data_table.ipynb>data table notebook</a>'\n",
              "          + ' to learn more about interactive tables.';\n",
              "        element.innerHTML = '';\n",
              "        dataTable['output_type'] = 'display_data';\n",
              "        await google.colab.output.renderOutput(dataTable, element);\n",
              "        const docLink = document.createElement('div');\n",
              "        docLink.innerHTML = docLinkHtml;\n",
              "        element.appendChild(docLink);\n",
              "      }\n",
              "    </script>\n",
              "  </div>\n",
              "\n",
              "\n",
              "<div id=\"df-0031e683-2212-4856-8810-d9c6e87c3111\">\n",
              "  <button class=\"colab-df-quickchart\" onclick=\"quickchart('df-0031e683-2212-4856-8810-d9c6e87c3111')\"\n",
              "            title=\"Suggest charts\"\n",
              "            style=\"display:none;\">\n",
              "\n",
              "<svg xmlns=\"http://www.w3.org/2000/svg\" height=\"24px\"viewBox=\"0 0 24 24\"\n",
              "     width=\"24px\">\n",
              "    <g>\n",
              "        <path d=\"M19 3H5c-1.1 0-2 .9-2 2v14c0 1.1.9 2 2 2h14c1.1 0 2-.9 2-2V5c0-1.1-.9-2-2-2zM9 17H7v-7h2v7zm4 0h-2V7h2v10zm4 0h-2v-4h2v4z\"/>\n",
              "    </g>\n",
              "</svg>\n",
              "  </button>\n",
              "\n",
              "<style>\n",
              "  .colab-df-quickchart {\n",
              "      --bg-color: #E8F0FE;\n",
              "      --fill-color: #1967D2;\n",
              "      --hover-bg-color: #E2EBFA;\n",
              "      --hover-fill-color: #174EA6;\n",
              "      --disabled-fill-color: #AAA;\n",
              "      --disabled-bg-color: #DDD;\n",
              "  }\n",
              "\n",
              "  [theme=dark] .colab-df-quickchart {\n",
              "      --bg-color: #3B4455;\n",
              "      --fill-color: #D2E3FC;\n",
              "      --hover-bg-color: #434B5C;\n",
              "      --hover-fill-color: #FFFFFF;\n",
              "      --disabled-bg-color: #3B4455;\n",
              "      --disabled-fill-color: #666;\n",
              "  }\n",
              "\n",
              "  .colab-df-quickchart {\n",
              "    background-color: var(--bg-color);\n",
              "    border: none;\n",
              "    border-radius: 50%;\n",
              "    cursor: pointer;\n",
              "    display: none;\n",
              "    fill: var(--fill-color);\n",
              "    height: 32px;\n",
              "    padding: 0;\n",
              "    width: 32px;\n",
              "  }\n",
              "\n",
              "  .colab-df-quickchart:hover {\n",
              "    background-color: var(--hover-bg-color);\n",
              "    box-shadow: 0 1px 2px rgba(60, 64, 67, 0.3), 0 1px 3px 1px rgba(60, 64, 67, 0.15);\n",
              "    fill: var(--button-hover-fill-color);\n",
              "  }\n",
              "\n",
              "  .colab-df-quickchart-complete:disabled,\n",
              "  .colab-df-quickchart-complete:disabled:hover {\n",
              "    background-color: var(--disabled-bg-color);\n",
              "    fill: var(--disabled-fill-color);\n",
              "    box-shadow: none;\n",
              "  }\n",
              "\n",
              "  .colab-df-spinner {\n",
              "    border: 2px solid var(--fill-color);\n",
              "    border-color: transparent;\n",
              "    border-bottom-color: var(--fill-color);\n",
              "    animation:\n",
              "      spin 1s steps(1) infinite;\n",
              "  }\n",
              "\n",
              "  @keyframes spin {\n",
              "    0% {\n",
              "      border-color: transparent;\n",
              "      border-bottom-color: var(--fill-color);\n",
              "      border-left-color: var(--fill-color);\n",
              "    }\n",
              "    20% {\n",
              "      border-color: transparent;\n",
              "      border-left-color: var(--fill-color);\n",
              "      border-top-color: var(--fill-color);\n",
              "    }\n",
              "    30% {\n",
              "      border-color: transparent;\n",
              "      border-left-color: var(--fill-color);\n",
              "      border-top-color: var(--fill-color);\n",
              "      border-right-color: var(--fill-color);\n",
              "    }\n",
              "    40% {\n",
              "      border-color: transparent;\n",
              "      border-right-color: var(--fill-color);\n",
              "      border-top-color: var(--fill-color);\n",
              "    }\n",
              "    60% {\n",
              "      border-color: transparent;\n",
              "      border-right-color: var(--fill-color);\n",
              "    }\n",
              "    80% {\n",
              "      border-color: transparent;\n",
              "      border-right-color: var(--fill-color);\n",
              "      border-bottom-color: var(--fill-color);\n",
              "    }\n",
              "    90% {\n",
              "      border-color: transparent;\n",
              "      border-bottom-color: var(--fill-color);\n",
              "    }\n",
              "  }\n",
              "</style>\n",
              "\n",
              "  <script>\n",
              "    async function quickchart(key) {\n",
              "      const quickchartButtonEl =\n",
              "        document.querySelector('#' + key + ' button');\n",
              "      quickchartButtonEl.disabled = true;  // To prevent multiple clicks.\n",
              "      quickchartButtonEl.classList.add('colab-df-spinner');\n",
              "      try {\n",
              "        const charts = await google.colab.kernel.invokeFunction(\n",
              "            'suggestCharts', [key], {});\n",
              "      } catch (error) {\n",
              "        console.error('Error during call to suggestCharts:', error);\n",
              "      }\n",
              "      quickchartButtonEl.classList.remove('colab-df-spinner');\n",
              "      quickchartButtonEl.classList.add('colab-df-quickchart-complete');\n",
              "    }\n",
              "    (() => {\n",
              "      let quickchartButtonEl =\n",
              "        document.querySelector('#df-0031e683-2212-4856-8810-d9c6e87c3111 button');\n",
              "      quickchartButtonEl.style.display =\n",
              "        google.colab.kernel.accessAllowed ? 'block' : 'none';\n",
              "    })();\n",
              "  </script>\n",
              "</div>\n",
              "\n",
              "    </div>\n",
              "  </div>\n"
            ],
            "application/vnd.google.colaboratory.intrinsic+json": {
              "type": "dataframe",
              "variable_name": "data"
            }
          },
          "metadata": {},
          "execution_count": 11
        }
      ],
      "source": [
        "data.head()"
      ]
    },
    {
      "cell_type": "code",
      "execution_count": null,
      "id": "660689c1",
      "metadata": {
        "id": "660689c1"
      },
      "outputs": [],
      "source": [
        "# Sample 50 rows where the label is 0\n",
        "sample_0 = data[data[\"target\"] == 0].sample(n=5000, random_state=42)\n",
        "\n",
        "# Sample 50 rows where the label is 4\n",
        "sample_4 = data[data[\"target\"] == 4].sample(n=5000, random_state=42)\n",
        "\n",
        "# Combine the samples\n",
        "sampled_data = pd.concat([sample_0, sample_4])\n",
        "\n",
        "# Shuffle the final sampled data to randomize the order (optional)\n",
        "sampled_data = sampled_data.sample(frac=1, random_state=42).reset_index(drop=True)"
      ]
    },
    {
      "cell_type": "code",
      "execution_count": null,
      "id": "d410fb1d",
      "metadata": {
        "id": "d410fb1d"
      },
      "outputs": [],
      "source": [
        "X = sampled_data[['cleaned_text']].copy() # This keeps X as a DataFrame\n",
        "y = sampled_data[['target']].copy()\n"
      ]
    },
    {
      "cell_type": "code",
      "execution_count": null,
      "id": "af66731b",
      "metadata": {
        "id": "af66731b",
        "colab": {
          "base_uri": "https://localhost:8080/",
          "height": 204
        },
        "outputId": "c044e083-7518-46d0-e554-85324f9f769a"
      },
      "outputs": [
        {
          "output_type": "execute_result",
          "data": {
            "text/plain": [
              "pandas.core.frame.DataFrame"
            ],
            "text/html": [
              "<div style=\"max-width:800px; border: 1px solid var(--colab-border-color);\"><style>\n",
              "      pre.function-repr-contents {\n",
              "        overflow-x: auto;\n",
              "        padding: 8px 12px;\n",
              "        max-height: 500px;\n",
              "      }\n",
              "\n",
              "      pre.function-repr-contents.function-repr-contents-collapsed {\n",
              "        cursor: pointer;\n",
              "        max-height: 100px;\n",
              "      }\n",
              "    </style>\n",
              "    <pre style=\"white-space: initial; background:\n",
              "         var(--colab-secondary-surface-color); padding: 8px 12px;\n",
              "         border-bottom: 1px solid var(--colab-border-color);\"><b>pandas.core.frame.DataFrame</b><br/>def __init__(data=None, index: Axes | None=None, columns: Axes | None=None, dtype: Dtype | None=None, copy: bool | None=None) -&gt; None</pre><pre class=\"function-repr-contents function-repr-contents-collapsed\" style=\"\"><a class=\"filepath\" style=\"display:none\" href=\"#\">/usr/local/lib/python3.10/dist-packages/pandas/core/frame.py</a>Two-dimensional, size-mutable, potentially heterogeneous tabular data.\n",
              "\n",
              "Data structure also contains labeled axes (rows and columns).\n",
              "Arithmetic operations align on both row and column labels. Can be\n",
              "thought of as a dict-like container for Series objects. The primary\n",
              "pandas data structure.\n",
              "\n",
              "Parameters\n",
              "----------\n",
              "data : ndarray (structured or homogeneous), Iterable, dict, or DataFrame\n",
              "    Dict can contain Series, arrays, constants, dataclass or list-like objects. If\n",
              "    data is a dict, column order follows insertion-order. If a dict contains Series\n",
              "    which have an index defined, it is aligned by its index. This alignment also\n",
              "    occurs if data is a Series or a DataFrame itself. Alignment is done on\n",
              "    Series/DataFrame inputs.\n",
              "\n",
              "    If data is a list of dicts, column order follows insertion-order.\n",
              "\n",
              "index : Index or array-like\n",
              "    Index to use for resulting frame. Will default to RangeIndex if\n",
              "    no indexing information part of input data and no index provided.\n",
              "columns : Index or array-like\n",
              "    Column labels to use for resulting frame when data does not have them,\n",
              "    defaulting to RangeIndex(0, 1, 2, ..., n). If data contains column labels,\n",
              "    will perform column selection instead.\n",
              "dtype : dtype, default None\n",
              "    Data type to force. Only a single dtype is allowed. If None, infer.\n",
              "copy : bool or None, default None\n",
              "    Copy data from inputs.\n",
              "    For dict data, the default of None behaves like ``copy=True``.  For DataFrame\n",
              "    or 2d ndarray input, the default of None behaves like ``copy=False``.\n",
              "    If data is a dict containing one or more Series (possibly of different dtypes),\n",
              "    ``copy=False`` will ensure that these inputs are not copied.\n",
              "\n",
              "    .. versionchanged:: 1.3.0\n",
              "\n",
              "See Also\n",
              "--------\n",
              "DataFrame.from_records : Constructor from tuples, also record arrays.\n",
              "DataFrame.from_dict : From dicts of Series, arrays, or dicts.\n",
              "read_csv : Read a comma-separated values (csv) file into DataFrame.\n",
              "read_table : Read general delimited file into DataFrame.\n",
              "read_clipboard : Read text from clipboard into DataFrame.\n",
              "\n",
              "Notes\n",
              "-----\n",
              "Please reference the :ref:`User Guide &lt;basics.dataframe&gt;` for more information.\n",
              "\n",
              "Examples\n",
              "--------\n",
              "Constructing DataFrame from a dictionary.\n",
              "\n",
              "&gt;&gt;&gt; d = {&#x27;col1&#x27;: [1, 2], &#x27;col2&#x27;: [3, 4]}\n",
              "&gt;&gt;&gt; df = pd.DataFrame(data=d)\n",
              "&gt;&gt;&gt; df\n",
              "   col1  col2\n",
              "0     1     3\n",
              "1     2     4\n",
              "\n",
              "Notice that the inferred dtype is int64.\n",
              "\n",
              "&gt;&gt;&gt; df.dtypes\n",
              "col1    int64\n",
              "col2    int64\n",
              "dtype: object\n",
              "\n",
              "To enforce a single dtype:\n",
              "\n",
              "&gt;&gt;&gt; df = pd.DataFrame(data=d, dtype=np.int8)\n",
              "&gt;&gt;&gt; df.dtypes\n",
              "col1    int8\n",
              "col2    int8\n",
              "dtype: object\n",
              "\n",
              "Constructing DataFrame from a dictionary including Series:\n",
              "\n",
              "&gt;&gt;&gt; d = {&#x27;col1&#x27;: [0, 1, 2, 3], &#x27;col2&#x27;: pd.Series([2, 3], index=[2, 3])}\n",
              "&gt;&gt;&gt; pd.DataFrame(data=d, index=[0, 1, 2, 3])\n",
              "   col1  col2\n",
              "0     0   NaN\n",
              "1     1   NaN\n",
              "2     2   2.0\n",
              "3     3   3.0\n",
              "\n",
              "Constructing DataFrame from numpy ndarray:\n",
              "\n",
              "&gt;&gt;&gt; df2 = pd.DataFrame(np.array([[1, 2, 3], [4, 5, 6], [7, 8, 9]]),\n",
              "...                    columns=[&#x27;a&#x27;, &#x27;b&#x27;, &#x27;c&#x27;])\n",
              "&gt;&gt;&gt; df2\n",
              "   a  b  c\n",
              "0  1  2  3\n",
              "1  4  5  6\n",
              "2  7  8  9\n",
              "\n",
              "Constructing DataFrame from a numpy ndarray that has labeled columns:\n",
              "\n",
              "&gt;&gt;&gt; data = np.array([(1, 2, 3), (4, 5, 6), (7, 8, 9)],\n",
              "...                 dtype=[(&quot;a&quot;, &quot;i4&quot;), (&quot;b&quot;, &quot;i4&quot;), (&quot;c&quot;, &quot;i4&quot;)])\n",
              "&gt;&gt;&gt; df3 = pd.DataFrame(data, columns=[&#x27;c&#x27;, &#x27;a&#x27;])\n",
              "...\n",
              "&gt;&gt;&gt; df3\n",
              "   c  a\n",
              "0  3  1\n",
              "1  6  4\n",
              "2  9  7\n",
              "\n",
              "Constructing DataFrame from dataclass:\n",
              "\n",
              "&gt;&gt;&gt; from dataclasses import make_dataclass\n",
              "&gt;&gt;&gt; Point = make_dataclass(&quot;Point&quot;, [(&quot;x&quot;, int), (&quot;y&quot;, int)])\n",
              "&gt;&gt;&gt; pd.DataFrame([Point(0, 0), Point(0, 3), Point(2, 3)])\n",
              "   x  y\n",
              "0  0  0\n",
              "1  0  3\n",
              "2  2  3\n",
              "\n",
              "Constructing DataFrame from Series/DataFrame:\n",
              "\n",
              "&gt;&gt;&gt; ser = pd.Series([1, 2, 3], index=[&quot;a&quot;, &quot;b&quot;, &quot;c&quot;])\n",
              "&gt;&gt;&gt; df = pd.DataFrame(data=ser, index=[&quot;a&quot;, &quot;c&quot;])\n",
              "&gt;&gt;&gt; df\n",
              "   0\n",
              "a  1\n",
              "c  3\n",
              "\n",
              "&gt;&gt;&gt; df1 = pd.DataFrame([1, 2, 3], index=[&quot;a&quot;, &quot;b&quot;, &quot;c&quot;], columns=[&quot;x&quot;])\n",
              "&gt;&gt;&gt; df2 = pd.DataFrame(data=df1, index=[&quot;a&quot;, &quot;c&quot;])\n",
              "&gt;&gt;&gt; df2\n",
              "   x\n",
              "a  1\n",
              "c  3</pre>\n",
              "      <script>\n",
              "      if (google.colab.kernel.accessAllowed && google.colab.files && google.colab.files.view) {\n",
              "        for (const element of document.querySelectorAll('.filepath')) {\n",
              "          element.style.display = 'block'\n",
              "          element.onclick = (event) => {\n",
              "            event.preventDefault();\n",
              "            event.stopPropagation();\n",
              "            google.colab.files.view(element.textContent, 509);\n",
              "          };\n",
              "        }\n",
              "      }\n",
              "      for (const element of document.querySelectorAll('.function-repr-contents')) {\n",
              "        element.onclick = (event) => {\n",
              "          event.preventDefault();\n",
              "          event.stopPropagation();\n",
              "          element.classList.toggle('function-repr-contents-collapsed');\n",
              "        };\n",
              "      }\n",
              "      </script>\n",
              "      </div>"
            ]
          },
          "metadata": {},
          "execution_count": 14
        }
      ],
      "source": [
        "type(X)"
      ]
    },
    {
      "cell_type": "code",
      "execution_count": null,
      "id": "4ed97e28",
      "metadata": {
        "id": "4ed97e28"
      },
      "outputs": [],
      "source": [
        "import pandas as pd\n",
        "from sklearn.feature_extraction.text import CountVectorizer, TfidfVectorizer\n",
        "from gensim.models import Word2Vec\n",
        "from nltk.tokenize import word_tokenize"
      ]
    },
    {
      "cell_type": "code",
      "source": [],
      "metadata": {
        "id": "4grGU_WIpEC0"
      },
      "id": "4grGU_WIpEC0",
      "execution_count": null,
      "outputs": []
    },
    {
      "cell_type": "code",
      "source": [
        "import os\n",
        "nltk_data_path = '/usr/local/share/nltk_data'\n",
        "\n",
        "# Create the folder if it doesn't exist\n",
        "if not os.path.exists(nltk_data_path):\n",
        "    os.makedirs(nltk_data_path)\n",
        "\n",
        "# Add this path to NLTK's search path\n",
        "nltk.data.path.append(nltk_data_path)\n",
        "\n",
        "# Download punkt into the specified directory\n",
        "nltk.download('punkt', download_dir=nltk_data_path)\n"
      ],
      "metadata": {
        "colab": {
          "base_uri": "https://localhost:8080/"
        },
        "id": "gPnb44jsrEk4",
        "outputId": "030aff22-7bd5-4b4b-feb6-9a6985eb0d75"
      },
      "id": "gPnb44jsrEk4",
      "execution_count": null,
      "outputs": [
        {
          "output_type": "stream",
          "name": "stderr",
          "text": [
            "[nltk_data] Downloading package punkt to /usr/local/share/nltk_data...\n",
            "[nltk_data]   Package punkt is already up-to-date!\n"
          ]
        },
        {
          "output_type": "execute_result",
          "data": {
            "text/plain": [
              "True"
            ]
          },
          "metadata": {},
          "execution_count": 16
        }
      ]
    },
    {
      "cell_type": "code",
      "source": [
        "import nltk\n",
        "nltk.download('punkt', force=True)  # Force re-download\n"
      ],
      "metadata": {
        "colab": {
          "base_uri": "https://localhost:8080/"
        },
        "id": "1IxyMsbbtF_8",
        "outputId": "dc4278f7-ec92-4dd2-8514-bcf239e65cb4"
      },
      "id": "1IxyMsbbtF_8",
      "execution_count": null,
      "outputs": [
        {
          "output_type": "stream",
          "name": "stderr",
          "text": [
            "[nltk_data] Downloading package punkt to /root/nltk_data...\n",
            "[nltk_data]   Unzipping tokenizers/punkt.zip.\n"
          ]
        },
        {
          "output_type": "execute_result",
          "data": {
            "text/plain": [
              "True"
            ]
          },
          "metadata": {},
          "execution_count": 17
        }
      ]
    },
    {
      "cell_type": "code",
      "source": [
        "import nltk\n",
        "from nltk.tokenize import word_tokenize\n",
        "nltk_data_path = '/usr/local/share/nltk_data'\n",
        "\n",
        "# Download 'punkt_tab' data\n",
        "nltk.download('punkt_tab',nltk_data_path)\n",
        "\n",
        "# Apply tokenization\n",
        "X['tokenized'] = X['cleaned_text'].apply(lambda sentence: word_tokenize(sentence.lower()))"
      ],
      "metadata": {
        "colab": {
          "base_uri": "https://localhost:8080/"
        },
        "id": "va3YSA-1wfTd",
        "outputId": "d3b79e7a-ebcf-4130-cae1-cc3a81486575"
      },
      "id": "va3YSA-1wfTd",
      "execution_count": null,
      "outputs": [
        {
          "output_type": "stream",
          "name": "stderr",
          "text": [
            "[nltk_data] Downloading package punkt_tab to\n",
            "[nltk_data]     /usr/local/share/nltk_data...\n",
            "[nltk_data]   Unzipping tokenizers/punkt_tab.zip.\n"
          ]
        }
      ]
    },
    {
      "cell_type": "code",
      "source": [
        "import nltk\n",
        "from nltk.tokenize import word_tokenize\n",
        "\n",
        "# Apply tokenization\n",
        "X['tokenized'] = X['cleaned_text'].apply(lambda sentence: word_tokenize(sentence.lower()))\n",
        "# /usr/local/share/nltk_data/tokenizers/punkt_tab/english.pickle"
      ],
      "metadata": {
        "id": "ozvGIv8brpms"
      },
      "id": "ozvGIv8brpms",
      "execution_count": null,
      "outputs": []
    },
    {
      "cell_type": "code",
      "execution_count": null,
      "id": "43c779ae",
      "metadata": {
        "id": "43c779ae",
        "colab": {
          "base_uri": "https://localhost:8080/",
          "height": 241
        },
        "outputId": "0050aae5-7c96-4668-e8ec-9aed9559e743"
      },
      "outputs": [
        {
          "output_type": "execute_result",
          "data": {
            "text/plain": [
              "0        [found, perfect, titl, portfolio, song, love]\n",
              "1    [new, antiviru, ive, instal, seem, effect, str...\n",
              "2    [fact, still, love, himyou, learn, mistak, hop...\n",
              "3    [think, got, ta, make, new, twitter, account, ...\n",
              "4    [end, weekendback, work, tomorrow, need, longe...\n",
              "Name: tokenized, dtype: object"
            ],
            "text/html": [
              "<div>\n",
              "<style scoped>\n",
              "    .dataframe tbody tr th:only-of-type {\n",
              "        vertical-align: middle;\n",
              "    }\n",
              "\n",
              "    .dataframe tbody tr th {\n",
              "        vertical-align: top;\n",
              "    }\n",
              "\n",
              "    .dataframe thead th {\n",
              "        text-align: right;\n",
              "    }\n",
              "</style>\n",
              "<table border=\"1\" class=\"dataframe\">\n",
              "  <thead>\n",
              "    <tr style=\"text-align: right;\">\n",
              "      <th></th>\n",
              "      <th>tokenized</th>\n",
              "    </tr>\n",
              "  </thead>\n",
              "  <tbody>\n",
              "    <tr>\n",
              "      <th>0</th>\n",
              "      <td>[found, perfect, titl, portfolio, song, love]</td>\n",
              "    </tr>\n",
              "    <tr>\n",
              "      <th>1</th>\n",
              "      <td>[new, antiviru, ive, instal, seem, effect, str...</td>\n",
              "    </tr>\n",
              "    <tr>\n",
              "      <th>2</th>\n",
              "      <td>[fact, still, love, himyou, learn, mistak, hop...</td>\n",
              "    </tr>\n",
              "    <tr>\n",
              "      <th>3</th>\n",
              "      <td>[think, got, ta, make, new, twitter, account, ...</td>\n",
              "    </tr>\n",
              "    <tr>\n",
              "      <th>4</th>\n",
              "      <td>[end, weekendback, work, tomorrow, need, longe...</td>\n",
              "    </tr>\n",
              "  </tbody>\n",
              "</table>\n",
              "</div><br><label><b>dtype:</b> object</label>"
            ]
          },
          "metadata": {},
          "execution_count": 25
        }
      ],
      "source": [
        "X[\"tokenized\"].head()"
      ]
    },
    {
      "cell_type": "code",
      "execution_count": null,
      "id": "4e98b04c",
      "metadata": {
        "id": "4e98b04c"
      },
      "outputs": [],
      "source": [
        "X_train, X_test, y_train, y_test = train_test_split(X[[\"cleaned_text\"]], y, test_size=0.2, random_state=42, stratify=y)"
      ]
    },
    {
      "cell_type": "code",
      "execution_count": null,
      "id": "9fef4951",
      "metadata": {
        "id": "9fef4951",
        "colab": {
          "base_uri": "https://localhost:8080/",
          "height": 206
        },
        "outputId": "a7336051-ca9c-41ab-8609-94fe28646794"
      },
      "outputs": [
        {
          "output_type": "execute_result",
          "data": {
            "text/plain": [
              "                                           cleaned_text\n",
              "5626       pub work lol pleas go yu yu want realli haha\n",
              "3794      what new job firm respons long drop mail free\n",
              "7758  new album rock would love come see u u ur uk t...\n",
              "5472  got free fritter graham birthday even though w...\n",
              "3054                                          help room"
            ],
            "text/html": [
              "\n",
              "  <div id=\"df-9fc2dcaf-19c5-4387-8880-43891101a120\" class=\"colab-df-container\">\n",
              "    <div>\n",
              "<style scoped>\n",
              "    .dataframe tbody tr th:only-of-type {\n",
              "        vertical-align: middle;\n",
              "    }\n",
              "\n",
              "    .dataframe tbody tr th {\n",
              "        vertical-align: top;\n",
              "    }\n",
              "\n",
              "    .dataframe thead th {\n",
              "        text-align: right;\n",
              "    }\n",
              "</style>\n",
              "<table border=\"1\" class=\"dataframe\">\n",
              "  <thead>\n",
              "    <tr style=\"text-align: right;\">\n",
              "      <th></th>\n",
              "      <th>cleaned_text</th>\n",
              "    </tr>\n",
              "  </thead>\n",
              "  <tbody>\n",
              "    <tr>\n",
              "      <th>5626</th>\n",
              "      <td>pub work lol pleas go yu yu want realli haha</td>\n",
              "    </tr>\n",
              "    <tr>\n",
              "      <th>3794</th>\n",
              "      <td>what new job firm respons long drop mail free</td>\n",
              "    </tr>\n",
              "    <tr>\n",
              "      <th>7758</th>\n",
              "      <td>new album rock would love come see u u ur uk t...</td>\n",
              "    </tr>\n",
              "    <tr>\n",
              "      <th>5472</th>\n",
              "      <td>got free fritter graham birthday even though w...</td>\n",
              "    </tr>\n",
              "    <tr>\n",
              "      <th>3054</th>\n",
              "      <td>help room</td>\n",
              "    </tr>\n",
              "  </tbody>\n",
              "</table>\n",
              "</div>\n",
              "    <div class=\"colab-df-buttons\">\n",
              "\n",
              "  <div class=\"colab-df-container\">\n",
              "    <button class=\"colab-df-convert\" onclick=\"convertToInteractive('df-9fc2dcaf-19c5-4387-8880-43891101a120')\"\n",
              "            title=\"Convert this dataframe to an interactive table.\"\n",
              "            style=\"display:none;\">\n",
              "\n",
              "  <svg xmlns=\"http://www.w3.org/2000/svg\" height=\"24px\" viewBox=\"0 -960 960 960\">\n",
              "    <path d=\"M120-120v-720h720v720H120Zm60-500h600v-160H180v160Zm220 220h160v-160H400v160Zm0 220h160v-160H400v160ZM180-400h160v-160H180v160Zm440 0h160v-160H620v160ZM180-180h160v-160H180v160Zm440 0h160v-160H620v160Z\"/>\n",
              "  </svg>\n",
              "    </button>\n",
              "\n",
              "  <style>\n",
              "    .colab-df-container {\n",
              "      display:flex;\n",
              "      gap: 12px;\n",
              "    }\n",
              "\n",
              "    .colab-df-convert {\n",
              "      background-color: #E8F0FE;\n",
              "      border: none;\n",
              "      border-radius: 50%;\n",
              "      cursor: pointer;\n",
              "      display: none;\n",
              "      fill: #1967D2;\n",
              "      height: 32px;\n",
              "      padding: 0 0 0 0;\n",
              "      width: 32px;\n",
              "    }\n",
              "\n",
              "    .colab-df-convert:hover {\n",
              "      background-color: #E2EBFA;\n",
              "      box-shadow: 0px 1px 2px rgba(60, 64, 67, 0.3), 0px 1px 3px 1px rgba(60, 64, 67, 0.15);\n",
              "      fill: #174EA6;\n",
              "    }\n",
              "\n",
              "    .colab-df-buttons div {\n",
              "      margin-bottom: 4px;\n",
              "    }\n",
              "\n",
              "    [theme=dark] .colab-df-convert {\n",
              "      background-color: #3B4455;\n",
              "      fill: #D2E3FC;\n",
              "    }\n",
              "\n",
              "    [theme=dark] .colab-df-convert:hover {\n",
              "      background-color: #434B5C;\n",
              "      box-shadow: 0px 1px 3px 1px rgba(0, 0, 0, 0.15);\n",
              "      filter: drop-shadow(0px 1px 2px rgba(0, 0, 0, 0.3));\n",
              "      fill: #FFFFFF;\n",
              "    }\n",
              "  </style>\n",
              "\n",
              "    <script>\n",
              "      const buttonEl =\n",
              "        document.querySelector('#df-9fc2dcaf-19c5-4387-8880-43891101a120 button.colab-df-convert');\n",
              "      buttonEl.style.display =\n",
              "        google.colab.kernel.accessAllowed ? 'block' : 'none';\n",
              "\n",
              "      async function convertToInteractive(key) {\n",
              "        const element = document.querySelector('#df-9fc2dcaf-19c5-4387-8880-43891101a120');\n",
              "        const dataTable =\n",
              "          await google.colab.kernel.invokeFunction('convertToInteractive',\n",
              "                                                    [key], {});\n",
              "        if (!dataTable) return;\n",
              "\n",
              "        const docLinkHtml = 'Like what you see? Visit the ' +\n",
              "          '<a target=\"_blank\" href=https://colab.research.google.com/notebooks/data_table.ipynb>data table notebook</a>'\n",
              "          + ' to learn more about interactive tables.';\n",
              "        element.innerHTML = '';\n",
              "        dataTable['output_type'] = 'display_data';\n",
              "        await google.colab.output.renderOutput(dataTable, element);\n",
              "        const docLink = document.createElement('div');\n",
              "        docLink.innerHTML = docLinkHtml;\n",
              "        element.appendChild(docLink);\n",
              "      }\n",
              "    </script>\n",
              "  </div>\n",
              "\n",
              "\n",
              "<div id=\"df-d7a4618f-e5f7-41a8-bae3-dbbd6deddad7\">\n",
              "  <button class=\"colab-df-quickchart\" onclick=\"quickchart('df-d7a4618f-e5f7-41a8-bae3-dbbd6deddad7')\"\n",
              "            title=\"Suggest charts\"\n",
              "            style=\"display:none;\">\n",
              "\n",
              "<svg xmlns=\"http://www.w3.org/2000/svg\" height=\"24px\"viewBox=\"0 0 24 24\"\n",
              "     width=\"24px\">\n",
              "    <g>\n",
              "        <path d=\"M19 3H5c-1.1 0-2 .9-2 2v14c0 1.1.9 2 2 2h14c1.1 0 2-.9 2-2V5c0-1.1-.9-2-2-2zM9 17H7v-7h2v7zm4 0h-2V7h2v10zm4 0h-2v-4h2v4z\"/>\n",
              "    </g>\n",
              "</svg>\n",
              "  </button>\n",
              "\n",
              "<style>\n",
              "  .colab-df-quickchart {\n",
              "      --bg-color: #E8F0FE;\n",
              "      --fill-color: #1967D2;\n",
              "      --hover-bg-color: #E2EBFA;\n",
              "      --hover-fill-color: #174EA6;\n",
              "      --disabled-fill-color: #AAA;\n",
              "      --disabled-bg-color: #DDD;\n",
              "  }\n",
              "\n",
              "  [theme=dark] .colab-df-quickchart {\n",
              "      --bg-color: #3B4455;\n",
              "      --fill-color: #D2E3FC;\n",
              "      --hover-bg-color: #434B5C;\n",
              "      --hover-fill-color: #FFFFFF;\n",
              "      --disabled-bg-color: #3B4455;\n",
              "      --disabled-fill-color: #666;\n",
              "  }\n",
              "\n",
              "  .colab-df-quickchart {\n",
              "    background-color: var(--bg-color);\n",
              "    border: none;\n",
              "    border-radius: 50%;\n",
              "    cursor: pointer;\n",
              "    display: none;\n",
              "    fill: var(--fill-color);\n",
              "    height: 32px;\n",
              "    padding: 0;\n",
              "    width: 32px;\n",
              "  }\n",
              "\n",
              "  .colab-df-quickchart:hover {\n",
              "    background-color: var(--hover-bg-color);\n",
              "    box-shadow: 0 1px 2px rgba(60, 64, 67, 0.3), 0 1px 3px 1px rgba(60, 64, 67, 0.15);\n",
              "    fill: var(--button-hover-fill-color);\n",
              "  }\n",
              "\n",
              "  .colab-df-quickchart-complete:disabled,\n",
              "  .colab-df-quickchart-complete:disabled:hover {\n",
              "    background-color: var(--disabled-bg-color);\n",
              "    fill: var(--disabled-fill-color);\n",
              "    box-shadow: none;\n",
              "  }\n",
              "\n",
              "  .colab-df-spinner {\n",
              "    border: 2px solid var(--fill-color);\n",
              "    border-color: transparent;\n",
              "    border-bottom-color: var(--fill-color);\n",
              "    animation:\n",
              "      spin 1s steps(1) infinite;\n",
              "  }\n",
              "\n",
              "  @keyframes spin {\n",
              "    0% {\n",
              "      border-color: transparent;\n",
              "      border-bottom-color: var(--fill-color);\n",
              "      border-left-color: var(--fill-color);\n",
              "    }\n",
              "    20% {\n",
              "      border-color: transparent;\n",
              "      border-left-color: var(--fill-color);\n",
              "      border-top-color: var(--fill-color);\n",
              "    }\n",
              "    30% {\n",
              "      border-color: transparent;\n",
              "      border-left-color: var(--fill-color);\n",
              "      border-top-color: var(--fill-color);\n",
              "      border-right-color: var(--fill-color);\n",
              "    }\n",
              "    40% {\n",
              "      border-color: transparent;\n",
              "      border-right-color: var(--fill-color);\n",
              "      border-top-color: var(--fill-color);\n",
              "    }\n",
              "    60% {\n",
              "      border-color: transparent;\n",
              "      border-right-color: var(--fill-color);\n",
              "    }\n",
              "    80% {\n",
              "      border-color: transparent;\n",
              "      border-right-color: var(--fill-color);\n",
              "      border-bottom-color: var(--fill-color);\n",
              "    }\n",
              "    90% {\n",
              "      border-color: transparent;\n",
              "      border-bottom-color: var(--fill-color);\n",
              "    }\n",
              "  }\n",
              "</style>\n",
              "\n",
              "  <script>\n",
              "    async function quickchart(key) {\n",
              "      const quickchartButtonEl =\n",
              "        document.querySelector('#' + key + ' button');\n",
              "      quickchartButtonEl.disabled = true;  // To prevent multiple clicks.\n",
              "      quickchartButtonEl.classList.add('colab-df-spinner');\n",
              "      try {\n",
              "        const charts = await google.colab.kernel.invokeFunction(\n",
              "            'suggestCharts', [key], {});\n",
              "      } catch (error) {\n",
              "        console.error('Error during call to suggestCharts:', error);\n",
              "      }\n",
              "      quickchartButtonEl.classList.remove('colab-df-spinner');\n",
              "      quickchartButtonEl.classList.add('colab-df-quickchart-complete');\n",
              "    }\n",
              "    (() => {\n",
              "      let quickchartButtonEl =\n",
              "        document.querySelector('#df-d7a4618f-e5f7-41a8-bae3-dbbd6deddad7 button');\n",
              "      quickchartButtonEl.style.display =\n",
              "        google.colab.kernel.accessAllowed ? 'block' : 'none';\n",
              "    })();\n",
              "  </script>\n",
              "</div>\n",
              "\n",
              "    </div>\n",
              "  </div>\n"
            ],
            "application/vnd.google.colaboratory.intrinsic+json": {
              "type": "dataframe",
              "variable_name": "X_train",
              "summary": "{\n  \"name\": \"X_train\",\n  \"rows\": 8000,\n  \"fields\": [\n    {\n      \"column\": \"cleaned_text\",\n      \"properties\": {\n        \"dtype\": \"string\",\n        \"num_unique_values\": 7836,\n        \"samples\": [\n          \"dont feel good\",\n          \"stoog\",\n          \"get oldi happi birthday\"\n        ],\n        \"semantic_type\": \"\",\n        \"description\": \"\"\n      }\n    }\n  ]\n}"
            }
          },
          "metadata": {},
          "execution_count": 27
        }
      ],
      "source": [
        "X_train.head()"
      ]
    },
    {
      "cell_type": "code",
      "execution_count": null,
      "id": "01369dfd",
      "metadata": {
        "id": "01369dfd"
      },
      "outputs": [],
      "source": [
        "import pandas as pd"
      ]
    },
    {
      "cell_type": "code",
      "execution_count": null,
      "id": "1c2d0806",
      "metadata": {
        "id": "1c2d0806"
      },
      "outputs": [],
      "source": [
        "# Step 4: Text Vectorization\n",
        "# BoW\n",
        "vectorizer = CountVectorizer()\n",
        "X_train_bow = vectorizer.fit_transform(X_train[\"cleaned_text\"].tolist())\n",
        "X_test_bow = vectorizer.transform(X_test[\"cleaned_text\"].tolist())\n",
        "X_train_bow = pd.DataFrame(X_train_bow.toarray(), columns=vectorizer.get_feature_names_out())\n",
        "X_test_bow = pd.DataFrame(X_test_bow.toarray(), columns=vectorizer.get_feature_names_out())"
      ]
    },
    {
      "cell_type": "code",
      "execution_count": null,
      "id": "0edfa5d2",
      "metadata": {
        "id": "0edfa5d2"
      },
      "outputs": [],
      "source": [
        "#tfidf\n",
        "vectorizer_tfidf = TfidfVectorizer()\n",
        "X_train_tfidf= vectorizer_tfidf.fit_transform(X_train[\"cleaned_text\"].tolist())\n",
        "X_test_tfidf = vectorizer_tfidf.transform(X_test[\"cleaned_text\"].tolist())\n",
        "X_train_tfidf = pd.DataFrame(X_train_tfidf.toarray(), columns=vectorizer_tfidf.get_feature_names_out())\n",
        "X_test_tfidf = pd.DataFrame(X_test_tfidf.toarray(), columns=vectorizer_tfidf.get_feature_names_out())"
      ]
    },
    {
      "cell_type": "code",
      "execution_count": null,
      "id": "b060e85b",
      "metadata": {
        "id": "b060e85b",
        "colab": {
          "base_uri": "https://localhost:8080/"
        },
        "outputId": "6771c3d7-6f20-46d7-a3ca-5db1db418186"
      },
      "outputs": [
        {
          "output_type": "stream",
          "name": "stderr",
          "text": [
            "WARNING:gensim.models.word2vec:Each 'sentences' item should be a list of words (usually unicode strings). First item here is instead plain <class 'str'>.\n"
          ]
        }
      ],
      "source": [
        "word2vec_model = Word2Vec(sentences=X_train, vector_size=100, window=5, min_count=1, workers=4)"
      ]
    },
    {
      "cell_type": "code",
      "execution_count": null,
      "id": "6f8580b5",
      "metadata": {
        "id": "6f8580b5"
      },
      "outputs": [],
      "source": [
        "def vectorize_sentence(sentence, model):\n",
        "    # Get word vectors for each word in the sentence\n",
        "    vectors = [model.wv[word] for word in sentence if word in model.wv]\n",
        "\n",
        "    # If there are valid word vectors, return the mean, otherwise return a zero vector\n",
        "    if len(vectors) > 0:\n",
        "        return np.mean(vectors, axis=0)  # Mean of word vectors\n",
        "    else:\n",
        "        return np.zeros(model.vector_size)  # Zero vector for sentences with no valid words"
      ]
    },
    {
      "cell_type": "code",
      "execution_count": null,
      "id": "9d66b806",
      "metadata": {
        "id": "9d66b806"
      },
      "outputs": [],
      "source": [
        "import numpy as np\n",
        "X_train_vectors = np.array([vectorize_sentence(sentence, word2vec_model) for sentence in X_train])\n",
        "X_train_word2vec = pd.DataFrame(X_train_vectors)"
      ]
    },
    {
      "cell_type": "code",
      "execution_count": null,
      "id": "651fb3ef",
      "metadata": {
        "id": "651fb3ef",
        "colab": {
          "base_uri": "https://localhost:8080/",
          "height": 130
        },
        "outputId": "bf072017-3484-4178-c6ee-a99d91631c8d"
      },
      "outputs": [
        {
          "output_type": "execute_result",
          "data": {
            "text/plain": [
              "         0         1         2         3         4         5         6   \\\n",
              "0 -0.003012  0.001986  0.001893  0.003509 -0.000366 -0.001803  0.003873   \n",
              "\n",
              "         7       8         9   ...        90        91        92        93  \\\n",
              "0  0.003836 -0.0041 -0.002366  ...  0.000134  0.000321  0.000948 -0.002058   \n",
              "\n",
              "         94        95        96        97        98       99  \n",
              "0  0.005073  0.002583  0.000763 -0.003323  0.000119  0.00064  \n",
              "\n",
              "[1 rows x 100 columns]"
            ],
            "text/html": [
              "\n",
              "  <div id=\"df-68cce498-9062-4a7d-b2e3-829437e2432f\" class=\"colab-df-container\">\n",
              "    <div>\n",
              "<style scoped>\n",
              "    .dataframe tbody tr th:only-of-type {\n",
              "        vertical-align: middle;\n",
              "    }\n",
              "\n",
              "    .dataframe tbody tr th {\n",
              "        vertical-align: top;\n",
              "    }\n",
              "\n",
              "    .dataframe thead th {\n",
              "        text-align: right;\n",
              "    }\n",
              "</style>\n",
              "<table border=\"1\" class=\"dataframe\">\n",
              "  <thead>\n",
              "    <tr style=\"text-align: right;\">\n",
              "      <th></th>\n",
              "      <th>0</th>\n",
              "      <th>1</th>\n",
              "      <th>2</th>\n",
              "      <th>3</th>\n",
              "      <th>4</th>\n",
              "      <th>5</th>\n",
              "      <th>6</th>\n",
              "      <th>7</th>\n",
              "      <th>8</th>\n",
              "      <th>9</th>\n",
              "      <th>...</th>\n",
              "      <th>90</th>\n",
              "      <th>91</th>\n",
              "      <th>92</th>\n",
              "      <th>93</th>\n",
              "      <th>94</th>\n",
              "      <th>95</th>\n",
              "      <th>96</th>\n",
              "      <th>97</th>\n",
              "      <th>98</th>\n",
              "      <th>99</th>\n",
              "    </tr>\n",
              "  </thead>\n",
              "  <tbody>\n",
              "    <tr>\n",
              "      <th>0</th>\n",
              "      <td>-0.003012</td>\n",
              "      <td>0.001986</td>\n",
              "      <td>0.001893</td>\n",
              "      <td>0.003509</td>\n",
              "      <td>-0.000366</td>\n",
              "      <td>-0.001803</td>\n",
              "      <td>0.003873</td>\n",
              "      <td>0.003836</td>\n",
              "      <td>-0.0041</td>\n",
              "      <td>-0.002366</td>\n",
              "      <td>...</td>\n",
              "      <td>0.000134</td>\n",
              "      <td>0.000321</td>\n",
              "      <td>0.000948</td>\n",
              "      <td>-0.002058</td>\n",
              "      <td>0.005073</td>\n",
              "      <td>0.002583</td>\n",
              "      <td>0.000763</td>\n",
              "      <td>-0.003323</td>\n",
              "      <td>0.000119</td>\n",
              "      <td>0.00064</td>\n",
              "    </tr>\n",
              "  </tbody>\n",
              "</table>\n",
              "<p>1 rows × 100 columns</p>\n",
              "</div>\n",
              "    <div class=\"colab-df-buttons\">\n",
              "\n",
              "  <div class=\"colab-df-container\">\n",
              "    <button class=\"colab-df-convert\" onclick=\"convertToInteractive('df-68cce498-9062-4a7d-b2e3-829437e2432f')\"\n",
              "            title=\"Convert this dataframe to an interactive table.\"\n",
              "            style=\"display:none;\">\n",
              "\n",
              "  <svg xmlns=\"http://www.w3.org/2000/svg\" height=\"24px\" viewBox=\"0 -960 960 960\">\n",
              "    <path d=\"M120-120v-720h720v720H120Zm60-500h600v-160H180v160Zm220 220h160v-160H400v160Zm0 220h160v-160H400v160ZM180-400h160v-160H180v160Zm440 0h160v-160H620v160ZM180-180h160v-160H180v160Zm440 0h160v-160H620v160Z\"/>\n",
              "  </svg>\n",
              "    </button>\n",
              "\n",
              "  <style>\n",
              "    .colab-df-container {\n",
              "      display:flex;\n",
              "      gap: 12px;\n",
              "    }\n",
              "\n",
              "    .colab-df-convert {\n",
              "      background-color: #E8F0FE;\n",
              "      border: none;\n",
              "      border-radius: 50%;\n",
              "      cursor: pointer;\n",
              "      display: none;\n",
              "      fill: #1967D2;\n",
              "      height: 32px;\n",
              "      padding: 0 0 0 0;\n",
              "      width: 32px;\n",
              "    }\n",
              "\n",
              "    .colab-df-convert:hover {\n",
              "      background-color: #E2EBFA;\n",
              "      box-shadow: 0px 1px 2px rgba(60, 64, 67, 0.3), 0px 1px 3px 1px rgba(60, 64, 67, 0.15);\n",
              "      fill: #174EA6;\n",
              "    }\n",
              "\n",
              "    .colab-df-buttons div {\n",
              "      margin-bottom: 4px;\n",
              "    }\n",
              "\n",
              "    [theme=dark] .colab-df-convert {\n",
              "      background-color: #3B4455;\n",
              "      fill: #D2E3FC;\n",
              "    }\n",
              "\n",
              "    [theme=dark] .colab-df-convert:hover {\n",
              "      background-color: #434B5C;\n",
              "      box-shadow: 0px 1px 3px 1px rgba(0, 0, 0, 0.15);\n",
              "      filter: drop-shadow(0px 1px 2px rgba(0, 0, 0, 0.3));\n",
              "      fill: #FFFFFF;\n",
              "    }\n",
              "  </style>\n",
              "\n",
              "    <script>\n",
              "      const buttonEl =\n",
              "        document.querySelector('#df-68cce498-9062-4a7d-b2e3-829437e2432f button.colab-df-convert');\n",
              "      buttonEl.style.display =\n",
              "        google.colab.kernel.accessAllowed ? 'block' : 'none';\n",
              "\n",
              "      async function convertToInteractive(key) {\n",
              "        const element = document.querySelector('#df-68cce498-9062-4a7d-b2e3-829437e2432f');\n",
              "        const dataTable =\n",
              "          await google.colab.kernel.invokeFunction('convertToInteractive',\n",
              "                                                    [key], {});\n",
              "        if (!dataTable) return;\n",
              "\n",
              "        const docLinkHtml = 'Like what you see? Visit the ' +\n",
              "          '<a target=\"_blank\" href=https://colab.research.google.com/notebooks/data_table.ipynb>data table notebook</a>'\n",
              "          + ' to learn more about interactive tables.';\n",
              "        element.innerHTML = '';\n",
              "        dataTable['output_type'] = 'display_data';\n",
              "        await google.colab.output.renderOutput(dataTable, element);\n",
              "        const docLink = document.createElement('div');\n",
              "        docLink.innerHTML = docLinkHtml;\n",
              "        element.appendChild(docLink);\n",
              "      }\n",
              "    </script>\n",
              "  </div>\n",
              "\n",
              "\n",
              "  <div id=\"id_a1039cb2-c0ef-40d8-8255-0239a8180fa0\">\n",
              "    <style>\n",
              "      .colab-df-generate {\n",
              "        background-color: #E8F0FE;\n",
              "        border: none;\n",
              "        border-radius: 50%;\n",
              "        cursor: pointer;\n",
              "        display: none;\n",
              "        fill: #1967D2;\n",
              "        height: 32px;\n",
              "        padding: 0 0 0 0;\n",
              "        width: 32px;\n",
              "      }\n",
              "\n",
              "      .colab-df-generate:hover {\n",
              "        background-color: #E2EBFA;\n",
              "        box-shadow: 0px 1px 2px rgba(60, 64, 67, 0.3), 0px 1px 3px 1px rgba(60, 64, 67, 0.15);\n",
              "        fill: #174EA6;\n",
              "      }\n",
              "\n",
              "      [theme=dark] .colab-df-generate {\n",
              "        background-color: #3B4455;\n",
              "        fill: #D2E3FC;\n",
              "      }\n",
              "\n",
              "      [theme=dark] .colab-df-generate:hover {\n",
              "        background-color: #434B5C;\n",
              "        box-shadow: 0px 1px 3px 1px rgba(0, 0, 0, 0.15);\n",
              "        filter: drop-shadow(0px 1px 2px rgba(0, 0, 0, 0.3));\n",
              "        fill: #FFFFFF;\n",
              "      }\n",
              "    </style>\n",
              "    <button class=\"colab-df-generate\" onclick=\"generateWithVariable('X_train_word2vec')\"\n",
              "            title=\"Generate code using this dataframe.\"\n",
              "            style=\"display:none;\">\n",
              "\n",
              "  <svg xmlns=\"http://www.w3.org/2000/svg\" height=\"24px\"viewBox=\"0 0 24 24\"\n",
              "       width=\"24px\">\n",
              "    <path d=\"M7,19H8.4L18.45,9,17,7.55,7,17.6ZM5,21V16.75L18.45,3.32a2,2,0,0,1,2.83,0l1.4,1.43a1.91,1.91,0,0,1,.58,1.4,1.91,1.91,0,0,1-.58,1.4L9.25,21ZM18.45,9,17,7.55Zm-12,3A5.31,5.31,0,0,0,4.9,8.1,5.31,5.31,0,0,0,1,6.5,5.31,5.31,0,0,0,4.9,4.9,5.31,5.31,0,0,0,6.5,1,5.31,5.31,0,0,0,8.1,4.9,5.31,5.31,0,0,0,12,6.5,5.46,5.46,0,0,0,6.5,12Z\"/>\n",
              "  </svg>\n",
              "    </button>\n",
              "    <script>\n",
              "      (() => {\n",
              "      const buttonEl =\n",
              "        document.querySelector('#id_a1039cb2-c0ef-40d8-8255-0239a8180fa0 button.colab-df-generate');\n",
              "      buttonEl.style.display =\n",
              "        google.colab.kernel.accessAllowed ? 'block' : 'none';\n",
              "\n",
              "      buttonEl.onclick = () => {\n",
              "        google.colab.notebook.generateWithVariable('X_train_word2vec');\n",
              "      }\n",
              "      })();\n",
              "    </script>\n",
              "  </div>\n",
              "\n",
              "    </div>\n",
              "  </div>\n"
            ],
            "application/vnd.google.colaboratory.intrinsic+json": {
              "type": "dataframe",
              "variable_name": "X_train_word2vec"
            }
          },
          "metadata": {},
          "execution_count": 34
        }
      ],
      "source": [
        "X_train_word2vec"
      ]
    },
    {
      "cell_type": "code",
      "execution_count": null,
      "id": "01d8c0a2",
      "metadata": {
        "id": "01d8c0a2",
        "colab": {
          "base_uri": "https://localhost:8080/"
        },
        "outputId": "60bf47b7-a1bc-4803-8080-89308c1fc6de"
      },
      "outputs": [
        {
          "output_type": "stream",
          "name": "stdout",
          "text": [
            "         0         1         2         3         4         5         6   \\\n",
            "0 -0.011746  0.010472 -0.002683  0.004978  0.002408 -0.020292  0.002130   \n",
            "1 -0.006291  0.005458  0.003276  0.007716 -0.000852 -0.029133  0.009662   \n",
            "2 -0.003443  0.008610  0.000392  0.001025  0.005775 -0.015071  0.003138   \n",
            "3 -0.006474  0.015019  0.001371  0.000057  0.006577 -0.047610  0.014021   \n",
            "4 -0.005290  0.010027  0.001668 -0.001942  0.000441 -0.022443  0.006417   \n",
            "\n",
            "         7         8         9   ...        90        91        92        93  \\\n",
            "0  0.034740 -0.006753 -0.014220  ...  0.018174  0.008498 -0.005544  0.005032   \n",
            "1  0.031669 -0.017487 -0.012108  ...  0.014596  0.009809 -0.001103  0.002638   \n",
            "2  0.018211 -0.006482 -0.006902  ...  0.015270  0.007908 -0.005444  0.003627   \n",
            "3  0.056695 -0.018929 -0.027429  ...  0.024682  0.015096 -0.009722  0.003125   \n",
            "4  0.028774 -0.016313 -0.009870  ...  0.008317  0.004439 -0.007622 -0.002123   \n",
            "\n",
            "         94        95        96        97        98        99  \n",
            "0  0.032034  0.024189  0.015751 -0.017665  0.004883  0.004001  \n",
            "1  0.028703  0.016939  0.007362 -0.012302  0.004969  0.010435  \n",
            "2  0.013323  0.011088  0.006365 -0.008814 -0.000131  0.001693  \n",
            "3  0.055556  0.031776  0.015736 -0.027538  0.017326  0.014382  \n",
            "4  0.022324  0.020183  0.014290 -0.009466  0.007232  0.005772  \n",
            "\n",
            "[5 rows x 100 columns]\n"
          ]
        }
      ],
      "source": [
        "import pandas as pd\n",
        "import gensim\n",
        "from gensim.models.doc2vec import Doc2Vec, TaggedDocument\n",
        "\n",
        "# Assuming X_train is your DataFrame and 'cleaned_text' is the column containing sentences\n",
        "sentences = X_train['cleaned_text'].tolist()\n",
        "\n",
        "# Prepare the data: Tag each sentence with a unique identifier\n",
        "tagged_data = [TaggedDocument(words=sentence.split(), tags=[str(i)]) for i, sentence in enumerate(sentences)]\n",
        "\n",
        "# Initialize and train the Doc2Vec model\n",
        "model = Doc2Vec(vector_size=100, window=2, min_count=1, workers=4)\n",
        "model.build_vocab(tagged_data)\n",
        "model.train(tagged_data, total_examples=model.corpus_count, epochs=10)\n",
        "\n",
        "# Now we can infer the vector for each sentence\n",
        "sentence_vectors = [model.infer_vector(sentence.split()) for sentence in sentences]\n",
        "\n",
        "# Convert the list of vectors into a DataFrame\n",
        "X_train_doc2vec = pd.DataFrame(sentence_vectors)\n",
        "\n",
        "\n",
        "# Now, vectorize X_test sentences\n",
        "test_sentences = X_test['cleaned_text'].tolist()\n",
        "\n",
        "# Infer vectors for the sentences in X_test\n",
        "test_vectors = [model.infer_vector(sentence.split()) for sentence in test_sentences]\n",
        "\n",
        "# Convert the list of vectors into a DataFrame\n",
        "X_test_doc2vec = pd.DataFrame(test_vectors)\n",
        "\n",
        "\n",
        "# Show the resulting sentence vectors DataFrame\n",
        "print(X_test_doc2vec.head())"
      ]
    },
    {
      "cell_type": "code",
      "execution_count": null,
      "id": "e8d854c8",
      "metadata": {
        "id": "e8d854c8",
        "colab": {
          "base_uri": "https://localhost:8080/"
        },
        "outputId": "a22afcdc-8e18-4426-caf9-e803630a5bf3"
      },
      "outputs": [
        {
          "output_type": "stream",
          "name": "stderr",
          "text": [
            "/usr/local/lib/python3.10/dist-packages/sklearn/utils/validation.py:1339: DataConversionWarning: A column-vector y was passed when a 1d array was expected. Please change the shape of y to (n_samples, ), for example using ravel().\n",
            "  y = column_or_1d(y, warn=True)\n",
            "/usr/local/lib/python3.10/dist-packages/sklearn/utils/validation.py:1339: DataConversionWarning: A column-vector y was passed when a 1d array was expected. Please change the shape of y to (n_samples, ), for example using ravel().\n",
            "  y = column_or_1d(y, warn=True)\n",
            "/usr/local/lib/python3.10/dist-packages/sklearn/utils/validation.py:1339: DataConversionWarning: A column-vector y was passed when a 1d array was expected. Please change the shape of y to (n_samples, ), for example using ravel().\n",
            "  y = column_or_1d(y, warn=True)\n"
          ]
        }
      ],
      "source": [
        "# Step 5: Building and Training Logistic Regression Model\n",
        "# Initialize logistic regression model\n",
        "logistic_model_bow = LogisticRegression(max_iter=1000)\n",
        "logistic_model_tfidf = LogisticRegression(max_iter=1000)\n",
        "logistic_model_doc2vec = LogisticRegression(max_iter=1000)\n",
        "# Train the model on the training set\n",
        "logistic_model_bow.fit(X_train_bow, y_train)\n",
        "logistic_model_tfidf.fit(X_train_tfidf, y_train)\n",
        "logistic_model_doc2vec.fit(X_train_doc2vec, y_train)\n",
        "\n",
        "y_pred_log_bow = logistic_model_bow.predict(X_test_bow)\n",
        "y_pred_log_tfidf = logistic_model_tfidf.predict(X_test_tfidf)\n",
        "y_pred_log_doc2vec = logistic_model_doc2vec.predict(X_test_doc2vec)"
      ]
    },
    {
      "cell_type": "code",
      "execution_count": null,
      "id": "84c0c35a",
      "metadata": {
        "id": "84c0c35a",
        "colab": {
          "base_uri": "https://localhost:8080/"
        },
        "outputId": "49b58d6c-2d3f-4883-c2c4-23d47f13a9bb"
      },
      "outputs": [
        {
          "output_type": "stream",
          "name": "stderr",
          "text": [
            "/usr/local/lib/python3.10/dist-packages/sklearn/neighbors/_classification.py:238: DataConversionWarning: A column-vector y was passed when a 1d array was expected. Please change the shape of y to (n_samples,), for example using ravel().\n",
            "  return self._fit(X, y)\n",
            "/usr/local/lib/python3.10/dist-packages/sklearn/neighbors/_classification.py:238: DataConversionWarning: A column-vector y was passed when a 1d array was expected. Please change the shape of y to (n_samples,), for example using ravel().\n",
            "  return self._fit(X, y)\n",
            "/usr/local/lib/python3.10/dist-packages/sklearn/neighbors/_classification.py:238: DataConversionWarning: A column-vector y was passed when a 1d array was expected. Please change the shape of y to (n_samples,), for example using ravel().\n",
            "  return self._fit(X, y)\n"
          ]
        }
      ],
      "source": [
        "from sklearn.neighbors import KNeighborsClassifier\n",
        "from sklearn.metrics import classification_report\n",
        "\n",
        "# Initialize KNN models for different feature extraction methods\n",
        "knn_model_bow = KNeighborsClassifier(n_neighbors=5)  # You can adjust the value of 'k'\n",
        "knn_model_tfidf = KNeighborsClassifier(n_neighbors=5)\n",
        "knn_model_doc2vec = KNeighborsClassifier(n_neighbors=5)\n",
        "\n",
        "# Train the KNN model on BOW, TF-IDF, and Doc2Vec embeddings\n",
        "knn_model_bow.fit(X_train_bow, y_train)\n",
        "knn_model_tfidf.fit(X_train_tfidf, y_train)\n",
        "knn_model_doc2vec.fit(X_train_doc2vec, y_train)\n",
        "\n",
        "\n",
        "# Predict using KNN for each feature extraction method\n",
        "y_pred_knn_bow = knn_model_bow.predict(X_test_bow)\n",
        "y_pred_knn_tfidf = knn_model_tfidf.predict(X_test_tfidf)\n",
        "y_pred_knn_doc2vec = knn_model_doc2vec.predict(X_test_doc2vec)"
      ]
    },
    {
      "cell_type": "code",
      "execution_count": null,
      "id": "cf166bb9",
      "metadata": {
        "id": "cf166bb9",
        "colab": {
          "base_uri": "https://localhost:8080/"
        },
        "outputId": "83625a2f-3c25-467c-9c01-4e5eb0e56cc7"
      },
      "outputs": [
        {
          "output_type": "stream",
          "name": "stdout",
          "text": [
            "Collecting vaderSentiment\n",
            "  Downloading vaderSentiment-3.3.2-py2.py3-none-any.whl.metadata (572 bytes)\n",
            "Requirement already satisfied: requests in /usr/local/lib/python3.10/dist-packages (from vaderSentiment) (2.32.3)\n",
            "Requirement already satisfied: charset-normalizer<4,>=2 in /usr/local/lib/python3.10/dist-packages (from requests->vaderSentiment) (3.4.0)\n",
            "Requirement already satisfied: idna<4,>=2.5 in /usr/local/lib/python3.10/dist-packages (from requests->vaderSentiment) (3.10)\n",
            "Requirement already satisfied: urllib3<3,>=1.21.1 in /usr/local/lib/python3.10/dist-packages (from requests->vaderSentiment) (2.2.3)\n",
            "Requirement already satisfied: certifi>=2017.4.17 in /usr/local/lib/python3.10/dist-packages (from requests->vaderSentiment) (2024.8.30)\n",
            "Downloading vaderSentiment-3.3.2-py2.py3-none-any.whl (125 kB)\n",
            "\u001b[2K   \u001b[90m━━━━━━━━━━━━━━━━━━━━━━━━━━━━━━━━━━━━━━━━\u001b[0m \u001b[32m126.0/126.0 kB\u001b[0m \u001b[31m2.5 MB/s\u001b[0m eta \u001b[36m0:00:00\u001b[0m\n",
            "\u001b[?25hInstalling collected packages: vaderSentiment\n",
            "Successfully installed vaderSentiment-3.3.2\n"
          ]
        }
      ],
      "source": [
        "!pip install vaderSentiment"
      ]
    },
    {
      "cell_type": "code",
      "execution_count": null,
      "id": "f454fe24",
      "metadata": {
        "id": "f454fe24",
        "colab": {
          "base_uri": "https://localhost:8080/"
        },
        "outputId": "152b3739-a8e1-4490-a5ce-9a9e2a844e89"
      },
      "outputs": [
        {
          "output_type": "stream",
          "name": "stdout",
          "text": [
            "Accuracy: 61.70%\n",
            "MSE: 6.128\n"
          ]
        }
      ],
      "source": [
        "from vaderSentiment.vaderSentiment import SentimentIntensityAnalyzer\n",
        "from sklearn.metrics import accuracy_score\n",
        "from sklearn.metrics import mean_squared_error\n",
        "\n",
        "analyzer = SentimentIntensityAnalyzer()\n",
        "\n",
        "\n",
        "def get_sentiment(text):\n",
        "    sentiment_score = analyzer.polarity_scores(text)['compound']\n",
        "\n",
        "    if sentiment_score >= 0.1:\n",
        "        return 4\n",
        "    else:\n",
        "        return 0\n",
        "\n",
        "\n",
        "y_pred_vader = [get_sentiment(text) for text in X_test[\"cleaned_text\"]]\n",
        "\n",
        "\n",
        "accuracy = accuracy_score(y_test, y_pred_vader)\n",
        "mse=mean_squared_error(y_test, y_pred_vader)\n",
        "\n",
        "print(f'Accuracy: {accuracy * 100:.2f}%')\n",
        "print(f'MSE: {mse}')\n"
      ]
    },
    {
      "cell_type": "code",
      "execution_count": null,
      "id": "b4e3941f",
      "metadata": {
        "id": "b4e3941f"
      },
      "outputs": [],
      "source": [
        "accuracy_log_bow = accuracy_score(y_test, y_pred_log_bow)\n",
        "accuracy_log_tfidf = accuracy_score(y_test, y_pred_log_tfidf)\n",
        "accuracy_log_doc2vec = accuracy_score(y_test, y_pred_log_doc2vec)\n",
        "\n",
        "accuracy_knn_bow = accuracy_score(y_test, y_pred_knn_bow)\n",
        "accuracy_knn_tfidf = accuracy_score(y_test, y_pred_knn_tfidf)\n",
        "accuracy_knn_doc2vec = accuracy_score(y_test, y_pred_knn_doc2vec)"
      ]
    },
    {
      "cell_type": "code",
      "execution_count": null,
      "id": "6c801fec",
      "metadata": {
        "id": "6c801fec",
        "colab": {
          "base_uri": "https://localhost:8080/",
          "height": 601
        },
        "outputId": "b8a02222-ec1d-4599-e596-8074b863d6d4"
      },
      "outputs": [
        {
          "output_type": "display_data",
          "data": {
            "text/plain": [
              "<Figure size 1000x600 with 1 Axes>"
            ],
            "image/png": "[encoded data removed]"
          },
          "metadata": {}
        }
      ],
      "source": [
        "import matplotlib.pyplot as plt\n",
        "\n",
        "# Data for models and their corresponding accuracies\n",
        "models = ['Logistic Regression (BOW)', 'Logistic Regression (TF-IDF)', 'Logistic Regression (Doc2Vec)',\n",
        "          'KNN (BOW)', 'KNN (TF-IDF)', 'KNN (Doc2Vec)','Vader']\n",
        "accuracies = [accuracy_log_bow, accuracy_log_tfidf, accuracy_log_doc2vec,\n",
        "              accuracy_knn_bow, accuracy_knn_tfidf, accuracy_knn_doc2vec,accuracy]\n",
        "\n",
        "# Create a bar plot\n",
        "plt.figure(figsize=(10, 6))\n",
        "plt.barh(models, accuracies, color='skyblue')\n",
        "\n",
        "# Adding labels and title\n",
        "plt.xlabel('Accuracy')\n",
        "plt.title('Model Accuracy for Different Feature Representations')\n",
        "plt.xlim(0, 1)  # Accuracy range between 0 and 1 (100%)\n",
        "\n",
        "# Display the accuracy values on the bars\n",
        "for i, v in enumerate(accuracies):\n",
        "    plt.text(v + 0.02, i, f'{v * 100:.2f}%', va='center', color='black')\n",
        "\n",
        "# Show the plot\n",
        "plt.tight_layout()\n",
        "plt.show()\n"
      ]
    },
    {
      "cell_type": "code",
      "execution_count": null,
      "id": "13a4cb99",
      "metadata": {
        "id": "13a4cb99"
      },
      "outputs": [],
      "source": [
        "from sklearn.metrics import mean_squared_error\n",
        "\n",
        "\n",
        "# Calculate Mean Squared Error (MSE) for each model's predictions\n",
        "mse_log_bow = mean_squared_error(y_test, y_pred_log_bow)\n",
        "mse_log_tfidf = mean_squared_error(y_test, y_pred_log_tfidf)\n",
        "mse_log_doc2vec = mean_squared_error(y_test, y_pred_log_doc2vec)\n",
        "\n",
        "mse_knn_bow = mean_squared_error(y_test, y_pred_knn_bow)\n",
        "mse_knn_tfidf = mean_squared_error(y_test, y_pred_knn_tfidf)\n",
        "mse_knn_doc2vec = mean_squared_error(y_test, y_pred_knn_doc2vec)"
      ]
    },
    {
      "cell_type": "code",
      "execution_count": null,
      "id": "d98ac187",
      "metadata": {
        "id": "d98ac187",
        "colab": {
          "base_uri": "https://localhost:8080/",
          "height": 601
        },
        "outputId": "901fd320-774c-4122-9472-9210474febf2"
      },
      "outputs": [
        {
          "output_type": "display_data",
          "data": {
            "text/plain": [
              "<Figure size 1000x600 with 1 Axes>"
            ],
            "image/png": "[encoded data removed]"
          },
          "metadata": {}
        }
      ],
      "source": [
        "\n",
        "models = ['Logistic Regression (BOW)', 'Logistic Regression (TF-IDF)', 'Logistic Regression (Doc2Vec)',\n",
        "          'KNN (BOW)', 'KNN (TF-IDF)', 'KNN (Doc2Vec)','Vader']\n",
        "mse_values = [mse_log_bow, mse_log_tfidf, mse_log_doc2vec,\n",
        "              mse_knn_bow, mse_knn_tfidf, mse_knn_doc2vec,mse]\n",
        "\n",
        "# Create a bar plot for MSE\n",
        "plt.figure(figsize=(10, 6))\n",
        "plt.barh(models, mse_values, color='salmon')\n",
        "\n",
        "# Adding labels and title\n",
        "plt.xlabel('Mean Squared Error')\n",
        "plt.title('Model Mean Squared Error for Different Feature Representations')\n",
        "\n",
        "# Display the MSE values on the bars\n",
        "for i, v in enumerate(mse_values):\n",
        "    plt.text(v + 0.02, i, f'{v:.4f}', va='center', color='black')\n",
        "\n",
        "# Show the plot\n",
        "plt.tight_layout()\n",
        "plt.show()"
      ]
    },
    {
      "cell_type": "code",
      "execution_count": null,
      "id": "c4bae947",
      "metadata": {
        "id": "c4bae947",
        "colab": {
          "base_uri": "https://localhost:8080/"
        },
        "outputId": "5440959c-ff36-47c2-fe68-3335c39a9f99"
      },
      "outputs": [
        {
          "output_type": "stream",
          "name": "stdout",
          "text": [
            "{'neg': 0.0, 'neu': 1.0, 'pos': 0.0, 'compound': 0.0}\n"
          ]
        }
      ],
      "source": [
        "sentiment = analyzer.polarity_scores(\"\")\n",
        "\n",
        "# Print the sentiment scores\n",
        "print(sentiment)"
      ]
    },
    {
      "cell_type": "code",
      "execution_count": null,
      "id": "75a0ecf5",
      "metadata": {
        "id": "75a0ecf5",
        "colab": {
          "base_uri": "https://localhost:8080/"
        },
        "outputId": "6514b8a5-5bbd-44ad-eeb8-a160a69609a2"
      },
      "outputs": [
        {
          "output_type": "stream",
          "name": "stdout",
          "text": [
            "{'neg': 0.0, 'neu': 0.208, 'pos': 0.792, 'compound': 0.8225}\n"
          ]
        }
      ],
      "source": [
        "sentiment = analyzer.polarity_scores(\"Congratulations for your success\")\n",
        "\n",
        "# Print the sentiment scores\n",
        "print(sentiment)"
      ]
    },
    {
      "cell_type": "code",
      "execution_count": null,
      "id": "8af17429",
      "metadata": {
        "id": "8af17429"
      },
      "outputs": [],
      "source": [
        "analyzer.lexicon.update({\n",
        "    'awesome': 3.0,\n",
        "    'terrible': -3.0,\n",
        "    'mediocre': -0.5\n",
        "})"
      ]
    },
    {
      "cell_type": "code",
      "execution_count": null,
      "id": "BNyme8jCWFEn",
      "metadata": {
        "id": "BNyme8jCWFEn"
      },
      "outputs": [],
      "source": []
    }
  ],
  "metadata": {
    "colab": {
      "provenance": [],
      "include_colab_link": true
    },
    "kaggle": {
      "accelerator": "none",
      "dataSources": [
        {
          "datasetId": 2477,
          "sourceId": 4140,
          "sourceType": "datasetVersion"
        }
      ],
      "dockerImageVersionId": 30786,
      "isGpuEnabled": false,
      "isInternetEnabled": true,
      "language": "python",
      "sourceType": "notebook"
    },
    "kernelspec": {
      "display_name": "Python 3",
      "language": "python",
      "name": "python3"
    },
    "language_info": {
      "codemirror_mode": {
        "name": "ipython",
        "version": 3
      },
      "file_extension": ".py",
      "mimetype": "text/x-python",
      "name": "python",
      "nbconvert_exporter": "python",
      "pygments_lexer": "ipython3",
      "version": "3.10.14"
    },
    "papermill": {
      "default_parameters": {},
      "duration": 338.552315,
      "end_time": "2024-11-28T13:49:29.632409",
      "environment_variables": {},
      "exception": null,
      "input_path": "__notebook__.ipynb",
      "output_path": "__notebook__.ipynb",
      "parameters": {},
      "start_time": "2024-11-28T13:43:51.080094",
      "version": "2.6.0"
    }
  },
  "nbformat": 4,
  "nbformat_minor": 5
}